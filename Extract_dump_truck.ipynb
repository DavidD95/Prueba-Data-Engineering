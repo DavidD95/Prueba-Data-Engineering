{
 "cells": [
  {
   "cell_type": "code",
   "execution_count": 1,
   "id": "06f070fc",
   "metadata": {},
   "outputs": [
    {
     "name": "stdout",
     "output_type": "stream",
     "text": [
      "Datos descargados y guardados en raw_todos.json correctamente.\n"
     ]
    }
   ],
   "source": [
    "import requests\n",
    "\n",
    "def fetch_and_save_data():\n",
    "    url = \"https://jsonplaceholder.typicode.com/todos\"\n",
    "    try:\n",
    "        # Hacemos la solicitud GET para obtener los datos crudos\n",
    "        response = requests.get(url)\n",
    "        response.raise_for_status()  # Si hay un error HTTP, lo lanza aquí\n",
    "\n",
    "        # Guardamos el contenido tal cual (texto JSON crudo) en un archivo\n",
    "        with open(\"raw_todos.json\", \"w\", encoding=\"utf-8\") as file:\n",
    "            file.write(response.text)\n",
    "\n",
    "        print(\"Datos descargados y guardados en raw_todos.json correctamente.\")\n",
    "\n",
    "    except requests.RequestException as e:\n",
    "        print(f\"Error al descargar los datos: {e}\")\n",
    "\n",
    "if __name__ == \"__main__\":\n",
    "    fetch_and_save_data()"
   ]
  },
  {
   "cell_type": "code",
   "execution_count": 1,
   "id": "857e7347",
   "metadata": {},
   "outputs": [
    {
     "name": "stdout",
     "output_type": "stream",
     "text": [
      "Raw data saved to SQLite database successfully.\n"
     ]
    }
   ],
   "source": [
    "import requests\n",
    "import sqlite3\n",
    "from datetime import datetime\n",
    "\n",
    "def fetch_and_save_to_db():\n",
    "    url = \"https://jsonplaceholder.typicode.com/todos\"\n",
    "    try:\n",
    "        # Fetch raw JSON text from the API\n",
    "        response = requests.get(url)\n",
    "        response.raise_for_status()  # Raise error if request failed\n",
    "        \n",
    "        raw_json = response.text  # Raw json as plain text\n",
    "        loaded_at = datetime.utcnow()  # Current timestamp in UTC\n",
    "        \n",
    "        # Connect to SQLite database (creates file if doesn't exist)\n",
    "        conn = sqlite3.connect(\"todos.db\")\n",
    "        cursor = conn.cursor()\n",
    "        \n",
    "        # Create table if it doesn't exist, with raw_data (TEXT) and loaded_at (TIMESTAMP)\n",
    "        cursor.execute(\"\"\"\n",
    "            CREATE TABLE IF NOT EXISTS raw_todos (\n",
    "                raw_data TEXT,\n",
    "                loaded_at TIMESTAMP\n",
    "            )\n",
    "        \"\"\")\n",
    "        \n",
    "        # Insert the raw JSON text and current timestamp\n",
    "        cursor.execute(\"INSERT INTO raw_todos (raw_data, loaded_at) VALUES (?, ?)\",\n",
    "                       (raw_json, loaded_at))\n",
    "        \n",
    "        # Commit changes and close connection\n",
    "        conn.commit()\n",
    "        conn.close()\n",
    "        \n",
    "        print(\"Raw data saved to SQLite database successfully.\")\n",
    "        \n",
    "    except requests.RequestException as e:\n",
    "        print(f\"Error fetching data: {e}\")\n",
    "    except sqlite3.Error as e:\n",
    "        print(f\"Database error: {e}\")\n",
    "\n",
    "if __name__ == \"__main__\":\n",
    "    fetch_and_save_to_db()"
   ]
  }
 ],
 "metadata": {
  "kernelspec": {
   "display_name": "Python 3",
   "language": "python",
   "name": "python3"
  },
  "language_info": {
   "codemirror_mode": {
    "name": "ipython",
    "version": 3
   },
   "file_extension": ".py",
   "mimetype": "text/x-python",
   "name": "python",
   "nbconvert_exporter": "python",
   "pygments_lexer": "ipython3",
   "version": "3.11.9"
  }
 },
 "nbformat": 4,
 "nbformat_minor": 5
}
