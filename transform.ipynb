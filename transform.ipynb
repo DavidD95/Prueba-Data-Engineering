{
 "cells": [
  {
   "cell_type": "code",
   "execution_count": 51,
   "id": "5862a14d",
   "metadata": {},
   "outputs": [
    {
     "name": "stdout",
     "output_type": "stream",
     "text": [
      "Transformation complete. Clean data loaded into 'clean_todos'.\n"
     ]
    }
   ],
   "source": [
    "import sqlite3\n",
    "import json\n",
    "\n",
    "def transform_raw_to_clean():\n",
    "    # Connect to the existing database\n",
    "    conn = sqlite3.connect(\"todos.db\")\n",
    "    cursor = conn.cursor()\n",
    "\n",
    "    # Create the clean_todos table with the desired schema\n",
    "    cursor.execute(\"\"\"\n",
    "        CREATE TABLE IF NOT EXISTS clean_todos (\n",
    "            id INTEGER PRIMARY KEY,\n",
    "            user_id INTEGER,\n",
    "            title TEXT,\n",
    "            completed BOOLEAN\n",
    "        )\n",
    "    \"\"\")\n",
    "\n",
    "    # Select all raw_data rows from raw_todos table\n",
    "    cursor.execute(\"SELECT raw_data FROM raw_todos\")\n",
    "    rows = cursor.fetchall()\n",
    "\n",
    "    # Iterate through each raw JSON text block\n",
    "    for (raw_json_text,) in rows:\n",
    "        try:\n",
    "            # Parse the JSON string into Python objects (list of dicts)\n",
    "            todos = json.loads(raw_json_text)\n",
    "\n",
    "            # Insert each todo item into clean_todos table\n",
    "            for todo in todos:\n",
    "                cursor.execute(\"\"\"\n",
    "                    INSERT OR IGNORE INTO clean_todos (id, user_id, title, completed) \n",
    "                    VALUES (?, ?, ?, ?)\n",
    "                \"\"\", (\n",
    "                    todo.get('id'),\n",
    "                    todo.get('userId'),\n",
    "                    todo.get('title'),\n",
    "                    todo.get('completed')\n",
    "                ))\n",
    "\n",
    "        except json.JSONDecodeError as e:\n",
    "            print(f\"JSON parsing error, skipping record: {e}\")\n",
    "            # Could add logging or move on; for now, just skip bad records\n",
    "\n",
    "    # Commit all inserts\n",
    "    conn.commit()\n",
    "    conn.close()\n",
    "    print(\"Transformation complete. Clean data loaded into 'clean_todos'.\")\n",
    "\n",
    "if __name__ == \"__main__\":\n",
    "    transform_raw_to_clean()"
   ]
  }
 ],
 "metadata": {
  "kernelspec": {
   "display_name": "Python 3",
   "language": "python",
   "name": "python3"
  },
  "language_info": {
   "codemirror_mode": {
    "name": "ipython",
    "version": 3
   },
   "file_extension": ".py",
   "mimetype": "text/x-python",
   "name": "python",
   "nbconvert_exporter": "python",
   "pygments_lexer": "ipython3",
   "version": "3.11.9"
  }
 },
 "nbformat": 4,
 "nbformat_minor": 5
}
